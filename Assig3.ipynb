{
  "nbformat": 4,
  "nbformat_minor": 0,
  "metadata": {
    "colab": {
      "provenance": []
    },
    "kernelspec": {
      "name": "python3",
      "display_name": "Python 3"
    },
    "language_info": {
      "name": "python"
    }
  },
  "cells": [
    {
      "cell_type": "code",
      "execution_count": 1,
      "metadata": {
        "id": "QlMEGhHYsSGG"
      },
      "outputs": [],
      "source": [
        "# 16-04-24\n",
        "# CSC461 – Assignment3 – IDS – Graph Analysis\n",
        "# Kainat Aqeel\n",
        "# FA21-BSE-019\n",
        "# UNDIRECTED GRAPHS"
      ]
    },
    {
      "cell_type": "code",
      "source": [
        "import networkx as nx\n",
        "import matplotlib as plt\n"
      ],
      "metadata": {
        "id": "tZ5wsUlzshwv"
      },
      "execution_count": 28,
      "outputs": []
    },
    {
      "cell_type": "code",
      "source": [
        "sG = nx.Graph()"
      ],
      "metadata": {
        "id": "EZStDEDPss_V"
      },
      "execution_count": 3,
      "outputs": []
    },
    {
      "cell_type": "code",
      "source": [
        "sG.add_node(\"a\")\n",
        "sG.add_node(\"b\")\n",
        "sG.add_node(\"c\")\n",
        "sG.add_node(\"d\")\n",
        "sG.add_node(\"e\")\n",
        "sG.add_node(\"f\")\n",
        "sG.add_node(\"g\")"
      ],
      "metadata": {
        "id": "UpTjoiCCs19J"
      },
      "execution_count": 4,
      "outputs": []
    },
    {
      "cell_type": "code",
      "source": [
        "sG.add_edge(\"a\", \"c\")\n",
        "sG.add_edge(\"a\", \"e\")\n",
        "sG.add_edge(\"a\", \"g\")\n",
        "sG.add_edge(\"b\", \"b\")\n",
        "sG.add_edge(\"b\", \"f\")\n",
        "sG.add_edge(\"c\", \"f\")\n",
        "sG.add_edge(\"c\", \"g\")\n",
        "sG.add_edge(\"d\", \"e\")\n",
        "sG.add_edge(\"f\", \"g\")"
      ],
      "metadata": {
        "id": "FhHOxUhxvGot"
      },
      "execution_count": 5,
      "outputs": []
    },
    {
      "cell_type": "code",
      "source": [
        "nx.draw(sG, with_labels = True)"
      ],
      "metadata": {
        "id": "8OsZ8cF3v5q4"
      },
      "execution_count": null,
      "outputs": []
    },
    {
      "cell_type": "code",
      "source": [
        "#there exist a loop at node b"
      ],
      "metadata": {
        "id": "uyyixW-ywK70"
      },
      "execution_count": null,
      "outputs": []
    },
    {
      "cell_type": "code",
      "source": [
        "graph = nx.Graph()"
      ],
      "metadata": {
        "id": "NQ6AsAC-xM-F"
      },
      "execution_count": 8,
      "outputs": []
    },
    {
      "cell_type": "code",
      "source": [
        "graph.add_node(\"a\")\n",
        "graph.add_node(\"b\")\n",
        "graph.add_node(\"c\")\n",
        "graph.add_node(\"d\")\n",
        "graph.add_node(\"e\")\n",
        "graph.add_node(\"f\")\n",
        "graph.add_node(\"g\")"
      ],
      "metadata": {
        "id": "FrL43LtnxYHp"
      },
      "execution_count": 9,
      "outputs": []
    },
    {
      "cell_type": "code",
      "source": [
        "graph.add_edge(\"a\", \"c\", weight = 2 )\n",
        "graph.add_edge(\"a\", \"e\", weight = 6)\n",
        "graph.add_edge(\"a\", \"g\", weight = 5)\n",
        "graph.add_edge(\"b\", \"b\", weight = 1)\n",
        "graph.add_edge(\"b\", \"f\", weight = 8)\n",
        "graph.add_edge(\"c\", \"f\", weight = 12)\n",
        "graph.add_edge(\"c\", \"g\", weight = 3)\n",
        "graph.add_edge(\"d\", \"e\", weight = 15)\n",
        "graph.add_edge(\"f\", \"g\", weight = 11)"
      ],
      "metadata": {
        "id": "d0VQJxMTxkHj"
      },
      "execution_count": 13,
      "outputs": []
    },
    {
      "cell_type": "code",
      "source": [
        "nx.draw(graph, with_labels = True)\n"
      ],
      "metadata": {
        "id": "Ue6x_SmRzMgB"
      },
      "execution_count": null,
      "outputs": []
    },
    {
      "cell_type": "code",
      "source": [
        "path = nx.dijkstra_path(graph, source=\"a\", target=\"b\")\n",
        "length = nx.dijkstra_path_length(graph, source=\"a\", target=\"b\")\n",
        "print(f\"Shortest path: {path}, Length: {length}\")"
      ],
      "metadata": {
        "id": "YYcqIQ6k01wf"
      },
      "execution_count": null,
      "outputs": []
    }
  ]
}