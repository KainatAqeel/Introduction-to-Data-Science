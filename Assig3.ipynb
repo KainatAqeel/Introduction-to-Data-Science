{
  "cells": [
    {
      "cell_type": "code",
      "execution_count": 1,
      "metadata": {
        "id": "QlMEGhHYsSGG"
      },
      "outputs": [],
      "source": [
        "# 16-04-24\n",
        "# csc461 – Assignment3 – IDS – Graph Analysis\n",
        "# Kainat Aqeel\n",
        "# FA21-BSE-019\n",
        "# UNDIRECTED GRAPHS"
      ]
    },
    {
      "cell_type": "code",
      "execution_count": 28,
      "metadata": {
        "id": "tZ5wsUlzshwv"
      },
      "outputs": [],
      "source": [
        "import networkx as nx\n",
        "import matplotlib as plt\n"
      ]
    },
    {
      "cell_type": "code",
      "execution_count": 3,
      "metadata": {
        "id": "EZStDEDPss_V"
      },
      "outputs": [],
      "source": [
        "sG = nx.Graph()"
      ]
    },
    {
      "cell_type": "code",
      "execution_count": 4,
      "metadata": {
        "id": "UpTjoiCCs19J"
      },
      "outputs": [],
      "source": [
        "sG.add_node(\"a\")\n",
        "sG.add_node(\"b\")\n",
        "sG.add_node(\"c\")\n",
        "sG.add_node(\"d\")\n",
        "sG.add_node(\"e\")\n",
        "sG.add_node(\"f\")\n",
        "sG.add_node(\"g\")"
      ]
    },
    {
      "cell_type": "code",
      "execution_count": 5,
      "metadata": {
        "id": "FhHOxUhxvGot"
      },
      "outputs": [],
      "source": [
        "sG.add_edge(\"a\", \"c\")\n",
        "sG.add_edge(\"a\", \"e\")\n",
        "sG.add_edge(\"a\", \"g\")\n",
        "sG.add_edge(\"b\", \"b\")\n",
        "sG.add_edge(\"b\", \"f\")\n",
        "sG.add_edge(\"c\", \"f\")\n",
        "sG.add_edge(\"c\", \"g\")\n",
        "sG.add_edge(\"d\", \"e\")\n",
        "sG.add_edge(\"f\", \"g\")"
      ]
    },
    {
      "cell_type": "code",
      "execution_count": null,
      "metadata": {
        "id": "8OsZ8cF3v5q4"
      },
      "outputs": [],
      "source": [
        "nx.draw(sG, with_labels = True)"
      ]
    },
    {
      "cell_type": "code",
      "execution_count": null,
      "metadata": {
        "id": "uyyixW-ywK70"
      },
      "outputs": [],
      "source": [
        "#there exist a loop at node b"
      ]
    },
    {
      "cell_type": "code",
      "execution_count": 8,
      "metadata": {
        "id": "NQ6AsAC-xM-F"
      },
      "outputs": [],
      "source": [
        "graph = nx.Graph()"
      ]
    },
    {
      "cell_type": "code",
      "execution_count": 9,
      "metadata": {
        "id": "FrL43LtnxYHp"
      },
      "outputs": [],
      "source": [
        "graph.add_node(\"a\")\n",
        "graph.add_node(\"b\")\n",
        "graph.add_node(\"c\")\n",
        "graph.add_node(\"d\")\n",
        "graph.add_node(\"e\")\n",
        "graph.add_node(\"f\")\n",
        "graph.add_node(\"g\")"
      ]
    },
    {
      "cell_type": "code",
      "execution_count": 13,
      "metadata": {
        "id": "d0VQJxMTxkHj"
      },
      "outputs": [],
      "source": [
        "graph.add_edge(\"a\", \"c\", weight = 2 )\n",
        "graph.add_edge(\"a\", \"e\", weight = 6)\n",
        "graph.add_edge(\"a\", \"g\", weight = 5)\n",
        "graph.add_edge(\"b\", \"b\", weight = 1)\n",
        "graph.add_edge(\"b\", \"f\", weight = 8)\n",
        "graph.add_edge(\"c\", \"f\", weight = 12)\n",
        "graph.add_edge(\"c\", \"g\", weight = 3)\n",
        "graph.add_edge(\"d\", \"e\", weight = 15)\n",
        "graph.add_edge(\"f\", \"g\", weight = 11)"
      ]
    },
    {
      "cell_type": "code",
      "execution_count": null,
      "metadata": {
        "id": "Ue6x_SmRzMgB"
      },
      "outputs": [],
      "source": [
        "nx.draw(graph, with_labels = True)\n"
      ]
    },
    {
      "cell_type": "code",
      "execution_count": null,
      "metadata": {
        "id": "YYcqIQ6k01wf"
      },
      "outputs": [],
      "source": [
        "path = nx.dijkstra_path(graph, source=\"a\", target=\"b\")\n",
        "length = nx.dijkstra_path_length(graph, source=\"a\", target=\"b\")\n",
        "print(f\"Shortest path: {path}, Length: {length}\")"
      ]
    }
  ],
  "metadata": {
    "colab": {
      "provenance": []
    },
    "kernelspec": {
      "display_name": "Python 3",
      "name": "python3"
    },
    "language_info": {
      "name": "python"
    }
  },
  "nbformat": 4,
  "nbformat_minor": 0
}
