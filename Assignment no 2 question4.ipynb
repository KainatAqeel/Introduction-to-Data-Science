{
  "nbformat": 4,
  "nbformat_minor": 0,
  "metadata": {
    "colab": {
      "provenance": []
    },
    "kernelspec": {
      "name": "python3",
      "display_name": "Python 3"
    },
    "language_info": {
      "name": "python"
    }
  },
  "cells": [
    {
      "cell_type": "code",
      "execution_count": 2,
      "metadata": {
        "id": "_y7gHsOXz-Dg"
      },
      "outputs": [],
      "source": [
        "# 22-03-24\n",
        "# CSC461 – Assignment2 – IDS – Data Visualization\n",
        "# KAINAT AQEEL\n",
        "# FA21-BSE-019\n",
        "#Use map of the US to show these sites as markers on the map. Clicking on a marker should display the name of the site."
      ]
    },
    {
      "cell_type": "code",
      "source": [
        "import folium\n",
        "import pandas as pd"
      ],
      "metadata": {
        "id": "ufInfEig0Yr8"
      },
      "execution_count": 41,
      "outputs": []
    },
    {
      "cell_type": "code",
      "source": [
        "nuclear_waste = pd.read_csv('nuclear_waste_sites.csv')\n",
        "nuclear_waste.head(10)"
      ],
      "metadata": {
        "id": "1e375R7Q0bZi"
      },
      "execution_count": null,
      "outputs": []
    },
    {
      "cell_type": "code",
      "source": [
        "m = folium.Map(location=[37.0902, -95.7129], zoom_start=4)"
      ],
      "metadata": {
        "id": "RmkjOFPg05t_"
      },
      "execution_count": 43,
      "outputs": []
    },
    {
      "cell_type": "code",
      "source": [
        "for index, row in nuclear_waste.iterrows():\n",
        "    folium.Marker(location=[row['lat'], row['lon']], popup=row['text']).add_to(m)"
      ],
      "metadata": {
        "id": "jbPApRzyuHQo"
      },
      "execution_count": 38,
      "outputs": []
    },
    {
      "cell_type": "code",
      "source": [
        "m"
      ],
      "metadata": {
        "id": "zWKQ8vcIuZj_"
      },
      "execution_count": null,
      "outputs": []
    }
  ]
}