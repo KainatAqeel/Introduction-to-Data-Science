{
  "nbformat": 4,
  "nbformat_minor": 0,
  "metadata": {
    "colab": {
      "provenance": []
    },
    "kernelspec": {
      "name": "python3",
      "display_name": "Python 3"
    },
    "language_info": {
      "name": "python"
    }
  },
  "cells": [
    {
      "cell_type": "code",
      "execution_count": 2,
      "metadata": {
        "id": "_y7gHsOXz-Dg"
      },
      "outputs": [],
      "source": [
        "# 22-03-24\n",
        "# CSC461 – Assignment2 – IDS – Data Visualization\n",
        "# KAINAT AQEEL\n",
        "# FA21-BSE-019\n",
        "# the population of 10 least populous countries in 2015 using a chart.\n",
        "#Calculate the change in population of Pakistan, India, United States, and United Kingdom from 1970 to 2010\n",
        "#Calculate the Pakistan population growth between 2010-2020 and then show the data using a chart"
      ]
    },
    {
      "cell_type": "code",
      "source": [
        "import pandas as pd\n",
        "import matplotlib.pyplot as plt"
      ],
      "metadata": {
        "id": "ufInfEig0Yr8"
      },
      "execution_count": 3,
      "outputs": []
    },
    {
      "cell_type": "code",
      "source": [
        "data = pd.read_csv('world_pop.csv')\n",
        "data.head(10)"
      ],
      "metadata": {
        "id": "1e375R7Q0bZi"
      },
      "execution_count": null,
      "outputs": []
    },
    {
      "cell_type": "code",
      "source": [
        "data_2015 = data[['country', 'year_2015']].copy()\n",
        "\n",
        "data_2015.set_index('country', inplace=True)"
      ],
      "metadata": {
        "id": "RmkjOFPg05t_"
      },
      "execution_count": null,
      "outputs": []
    },
    {
      "cell_type": "code",
      "source": [
        "data_2015.head(10)"
      ],
      "metadata": {
        "id": "XXe_isSG1AJa"
      },
      "execution_count": null,
      "outputs": []
    },
    {
      "cell_type": "code",
      "source": [
        "least_10_countries = data_2015.nsmallest(10, 'year_2015')\n",
        "least_10_countries.head(10)"
      ],
      "metadata": {
        "id": "Sj8OtvRh1LKF"
      },
      "execution_count": null,
      "outputs": []
    },
    {
      "cell_type": "code",
      "source": [
        "plt.figure(figsize=(10, 6))\n",
        "plt.barh(least_10_countries.index, least_10_countries['year_2015'], color='red')\n",
        "plt.xlabel('Population')\n",
        "plt.ylabel('Country')\n",
        "plt.title('Top 10 Least Populous Countries in 2015')\n",
        "plt.gca().invert_yaxis()\n",
        "plt.show()"
      ],
      "metadata": {
        "id": "mkjKT8hm1hgg"
      },
      "execution_count": null,
      "outputs": []
    },
    {
      "cell_type": "code",
      "source": [
        "countries = ['Pakistan', 'India', 'United States', 'United Kingdom']\n",
        "years = [f'year_{year}' for year in range(1970, 2011)]"
      ],
      "metadata": {
        "id": "yktHPSd33Juu"
      },
      "execution_count": 6,
      "outputs": []
    },
    {
      "cell_type": "code",
      "source": [
        "specific_data = data.loc[data['country'].isin(countries), ['country'] + years]\n",
        "specific_data.set_index('country', inplace=True)\n",
        "specific_data.head()"
      ],
      "metadata": {
        "id": "hZZ0yvS-i6OR"
      },
      "execution_count": null,
      "outputs": []
    },
    {
      "cell_type": "code",
      "source": [
        "population_change = specific_data.iloc[:, -1] - specific_data.iloc[:, 0]"
      ],
      "metadata": {
        "id": "cJrDyLKzjK_w"
      },
      "execution_count": 19,
      "outputs": []
    },
    {
      "cell_type": "code",
      "source": [
        "plt.figure(figsize=(10, 6))\n",
        "plt.bar(countries, population_change / 1e6, color=['blue', 'orange', 'green', 'red'])\n",
        "plt.xlabel('Country')\n",
        "plt.ylabel('Population Change (Millions)')\n",
        "plt.title('Population Change from 1970 to 2010')\n",
        "plt.grid(axis='y')\n",
        "\n",
        "plt.show()"
      ],
      "metadata": {
        "id": "xPfCa7dfkQXH"
      },
      "execution_count": null,
      "outputs": []
    },
    {
      "cell_type": "code",
      "source": [
        "pakistan_population_2010 = data.loc[data['country'] == 'Pakistan', 'year_2010'].values[0]\n",
        "pakistan_population_2020 = data.loc[data['country'] == 'Pakistan', 'year_2020'].values[0]\n"
      ],
      "metadata": {
        "id": "41F17Dc1ktx3"
      },
      "execution_count": 25,
      "outputs": []
    },
    {
      "cell_type": "code",
      "source": [
        "population_growth_percentage = ((pakistan_population_2020 - pakistan_population_2010) / pakistan_population_2010) * 100\n",
        "\n",
        "print(\"Pakistan Population Growth (2010-2020): {:.2f}%\".format(population_growth_percentage))\n"
      ],
      "metadata": {
        "id": "kF8rki5Zkx_m"
      },
      "execution_count": null,
      "outputs": []
    },
    {
      "cell_type": "code",
      "source": [
        "pakistan_population_data = data.loc[data['country'] == 'Pakistan', 'year_2010':'year_2020'].transpose()\n",
        "pakistan_population_data.plot(kind='line', marker='o', figsize=(10, 6))\n",
        "plt.title('Pakistan Population Growth (2010-2020)')\n",
        "plt.xlabel('Year')\n",
        "plt.ylabel('Population')\n",
        "plt.grid(True)\n",
        "plt.show()"
      ],
      "metadata": {
        "id": "fcPjaSMxk2Tb"
      },
      "execution_count": null,
      "outputs": []
    }
  ]
}