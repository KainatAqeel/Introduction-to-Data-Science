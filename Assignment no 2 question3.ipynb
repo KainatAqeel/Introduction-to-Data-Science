{
  "nbformat": 4,
  "nbformat_minor": 0,
  "metadata": {
    "colab": {
      "provenance": []
    },
    "kernelspec": {
      "name": "python3",
      "display_name": "Python 3"
    },
    "language_info": {
      "name": "python"
    }
  },
  "cells": [
    {
      "cell_type": "code",
      "execution_count": 2,
      "metadata": {
        "id": "_y7gHsOXz-Dg"
      },
      "outputs": [],
      "source": [
        "# 22-03-24\n",
        "# CSC461 – Assignment2 – IDS – Data Visualization\n",
        "# KAINAT AQEEL\n",
        "# FA21-BSE-019\n",
        "# Plot the relationship between ‘carat’ and ‘price’ of diamonds using a chart. Because it’s a large dataset, just\n",
        "# plot the diamonds with a ‘clarify’ = ‘SI2’ and ‘color’ = ‘E’."
      ]
    },
    {
      "cell_type": "code",
      "source": [
        "import pandas as pd\n",
        "import matplotlib.pyplot as plt"
      ],
      "metadata": {
        "id": "ufInfEig0Yr8"
      },
      "execution_count": 3,
      "outputs": []
    },
    {
      "cell_type": "code",
      "source": [
        "diamonds = pd.read_csv('diamonds.csv')\n",
        "diamonds.head(10)"
      ],
      "metadata": {
        "id": "1e375R7Q0bZi"
      },
      "execution_count": null,
      "outputs": []
    },
    {
      "cell_type": "code",
      "source": [
        "filtered_diamonds = diamonds[(diamonds['clarity'] == 'SI2') & (diamonds['color'] == 'E')]"
      ],
      "metadata": {
        "id": "RmkjOFPg05t_"
      },
      "execution_count": 29,
      "outputs": []
    },
    {
      "cell_type": "code",
      "source": [
        "filtered_diamonds.head(10)"
      ],
      "metadata": {
        "id": "XXe_isSG1AJa"
      },
      "execution_count": null,
      "outputs": []
    },
    {
      "cell_type": "code",
      "source": [
        "plt.figure(figsize=(10, 6))\n",
        "for cut, data in filtered_diamonds.groupby('cut'):\n",
        "    plt.scatter(data['carat'], data['price'], label=cut, alpha=0.5)\n",
        "\n",
        "plt.title('Relationship between Carat and Price of Diamonds (Clarity: SI2, Color: E)')\n",
        "plt.xlabel('Carat')\n",
        "plt.ylabel('Price')\n",
        "plt.legend(title='Cut', fontsize='medium', title_fontsize='large')\n",
        "plt.grid(True)\n",
        "plt.show()"
      ],
      "metadata": {
        "id": "Sj8OtvRh1LKF"
      },
      "execution_count": null,
      "outputs": []
    }
  ]
}