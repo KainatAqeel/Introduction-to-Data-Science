{
  "nbformat": 4,
  "nbformat_minor": 0,
  "metadata": {
    "colab": {
      "provenance": []
    },
    "kernelspec": {
      "name": "python3",
      "display_name": "Python 3"
    },
    "language_info": {
      "name": "python"
    }
  },
  "cells": [
    {
      "cell_type": "code",
      "source": [
        "# 12-02-24\n",
        "# CSC461 – Assignment1 – IDS – Web Scraping\n",
        "# KAINAT AQEEL\n",
        "# FA21-BSE-019\n",
        "# a web scraper in Python to extract the ‘title’, ‘year’, ‘duration’, and ‘IMDB rating’ for all-time top 250 movies from the IMDB website"
      ],
      "metadata": {
        "id": "wSXHSV3ptpuC"
      },
      "execution_count": 9,
      "outputs": []
    },
    {
      "cell_type": "code",
      "execution_count": 2,
      "metadata": {
        "id": "i4ap_NwT5YY2"
      },
      "outputs": [],
      "source": [
        "import requests\n",
        "from bs4 import BeautifulSoup\n",
        "import csv"
      ]
    },
    {
      "cell_type": "code",
      "source": [
        "headers = {\n",
        "    'User-Agent': 'Mozilla/5.0 (Windows NT 10.0; Win64; x64) AppleWebKit/537.36 (KHTML, like Gecko) Chrome/58.0.3029.110 Safari/537.3',\n",
        "    'Accept-Language': 'en-US,en;q=0.5'\n",
        "}\n",
        "url = 'https://www.imdb.com/chart/top/'\n",
        "response = requests.get(url, headers=headers)\n"
      ],
      "metadata": {
        "id": "5aYuwJ_R5a6K"
      },
      "execution_count": 3,
      "outputs": []
    },
    {
      "cell_type": "code",
      "source": [
        "soup = BeautifulSoup(response.content, 'html.parser')\n",
        "print(response.status_code)"
      ],
      "metadata": {
        "colab": {
          "base_uri": "https://localhost:8080/"
        },
        "id": "XiFycpU46Qko",
        "outputId": "056b6917-b41d-4ac9-f4c9-c34a91a43930"
      },
      "execution_count": 4,
      "outputs": [
        {
          "output_type": "stream",
          "name": "stdout",
          "text": [
            "200\n"
          ]
        }
      ]
    },
    {
      "cell_type": "code",
      "source": [
        "movies_data = soup.findAll('div', attrs = {'class':'ipc-metadata-list-summary-item__c'})"
      ],
      "metadata": {
        "id": "-LgfbOTksKu1"
      },
      "execution_count": 5,
      "outputs": []
    },
    {
      "cell_type": "code",
      "source": [
        "movies_info = []\n",
        "for data in movies_data:\n",
        "    name = data.a.h3.text.strip()\n",
        "    year = data.find('span', attrs={'class': 'ilsLEX'})\n",
        "    year = year.text.strip() if year else \"Unknown\"\n",
        "\n",
        "    rating = data.find('span', attrs={'class': 'ipc-rating-star'})\n",
        "    rating = rating.text.strip().split()[0] if rating else \"Unknown\"\n",
        "\n",
        "    duration1 = data.find_all('span', class_='sc-b0691f29-8')\n",
        "    duration = duration1[1].text.strip() if duration1 and len(duration1) > 1 else \"Unknown\"\n",
        "\n",
        "    movies_info.append([name, year, duration, rating])\n"
      ],
      "metadata": {
        "id": "AOaWTcmY7SUh"
      },
      "execution_count": 7,
      "outputs": []
    },
    {
      "cell_type": "code",
      "source": [
        "with open('FA21-BSE-019.csv', 'w', newline='', encoding='utf-8') as csvfile:\n",
        "    writer = csv.writer(csvfile)\n",
        "    writer.writerow(['Movie Name', 'Year', 'Duration', 'IMDB Rating'])\n",
        "    writer.writerows(movies_info)\n",
        "\n",
        "print(\"Data has been successfully written to 'FA21-BSE-019.csv' file.\")"
      ],
      "metadata": {
        "colab": {
          "base_uri": "https://localhost:8080/"
        },
        "id": "agADdxh4BD_G",
        "outputId": "f637f07d-6b4c-41c8-de06-c0455c1b4a69"
      },
      "execution_count": 8,
      "outputs": [
        {
          "output_type": "stream",
          "name": "stdout",
          "text": [
            "Data has been successfully written to 'FA21-BSE-019.csv' file.\n"
          ]
        }
      ]
    }
  ]
}