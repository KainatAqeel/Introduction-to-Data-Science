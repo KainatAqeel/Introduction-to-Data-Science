{
  "nbformat": 4,
  "nbformat_minor": 0,
  "metadata": {
    "colab": {
      "provenance": []
    },
    "kernelspec": {
      "name": "python3",
      "display_name": "Python 3"
    },
    "language_info": {
      "name": "python"
    }
  },
  "cells": [
    {
      "cell_type": "code",
      "execution_count": 2,
      "metadata": {
        "id": "_y7gHsOXz-Dg"
      },
      "outputs": [],
      "source": [
        "# 22-03-24\n",
        "# CSC461 – Assignment2 – IDS – Data Visualization\n",
        "# KAINAT AQEEL\n",
        "# FA21-BSE-019\n",
        "# Show these sites as markers on a map of the Pakistan. Clicking on a marker should display the name of the\n",
        "# site. Pick the appropriate location, zoom level and images tiles for the map."
      ]
    },
    {
      "cell_type": "code",
      "source": [
        "import folium\n",
        "import pandas as pd"
      ],
      "metadata": {
        "id": "ufInfEig0Yr8"
      },
      "execution_count": 41,
      "outputs": []
    },
    {
      "cell_type": "code",
      "source": [
        "columns = ['latitude', 'longitude', 'heritage_site']\n",
        "pakistan_heritage_sites = pd.read_csv('pak-heritage-sites.csv', names=columns)\n",
        "pakistan_heritage_sites.head(10)\n"
      ],
      "metadata": {
        "id": "1e375R7Q0bZi"
      },
      "execution_count": null,
      "outputs": []
    },
    {
      "cell_type": "code",
      "source": [
        "pakistan_map = folium.Map(location=[30.3753, 69.3451], zoom_start=5)"
      ],
      "metadata": {
        "id": "yPYcdSFhw54I"
      },
      "execution_count": 56,
      "outputs": []
    },
    {
      "cell_type": "code",
      "source": [
        "for index, row in pakistan_heritage_sites.iterrows():\n",
        "    folium.Marker([row['latitude'], row['longitude']], popup=row['heritage_site']).add_to(pakistan_map)"
      ],
      "metadata": {
        "id": "jbPApRzyuHQo"
      },
      "execution_count": 57,
      "outputs": []
    },
    {
      "cell_type": "code",
      "source": [
        "pakistan_map"
      ],
      "metadata": {
        "id": "zWKQ8vcIuZj_"
      },
      "execution_count": null,
      "outputs": []
    }
  ]
}