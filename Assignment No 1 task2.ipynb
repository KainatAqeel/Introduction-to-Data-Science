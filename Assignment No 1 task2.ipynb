{
  "nbformat": 4,
  "nbformat_minor": 0,
  "metadata": {
    "colab": {
      "provenance": []
    },
    "kernelspec": {
      "name": "python3",
      "display_name": "Python 3"
    },
    "language_info": {
      "name": "python"
    }
  },
  "cells": [
    {
      "cell_type": "code",
      "source": [
        "# 12-02-24\n",
        "# CSC461 – Assignment1 – IDS – Web Scraping\n",
        "# KAINAT AQEEL\n",
        "# FA21-BSE-019\n",
        "# a web scraper in Python to fetch the ‘Mars Planet Profile’ data"
      ],
      "metadata": {
        "id": "wSXHSV3ptpuC"
      },
      "execution_count": null,
      "outputs": []
    },
    {
      "cell_type": "code",
      "execution_count": 18,
      "metadata": {
        "id": "i4ap_NwT5YY2"
      },
      "outputs": [],
      "source": [
        "import requests\n",
        "from bs4 import BeautifulSoup\n",
        "import pandas as pd\n"
      ]
    },
    {
      "cell_type": "code",
      "source": [
        "!pip install xlsxwriter"
      ],
      "metadata": {
        "id": "cXhRtzjewiRC"
      },
      "execution_count": null,
      "outputs": []
    },
    {
      "cell_type": "code",
      "source": [
        "headers = {'User-Agent': 'Mozilla/5.0 (Windows NT 10.0; Win64; x64) AppleWebKit/537.36 (KHTML, like Gecko) Chrome/58.0.3029.110 Safari/537.3'}\n",
        "response = requests.get(\"https://space-facts.com/mars\")\n",
        "\n"
      ],
      "metadata": {
        "id": "5aYuwJ_R5a6K"
      },
      "execution_count": 10,
      "outputs": []
    },
    {
      "cell_type": "code",
      "source": [
        "soup = BeautifulSoup(response.content, 'html5lib')\n",
        "print(response.status_code)"
      ],
      "metadata": {
        "id": "XiFycpU46Qko"
      },
      "execution_count": null,
      "outputs": []
    },
    {
      "cell_type": "code",
      "source": [
        "table = soup.find('table', class_='tablepress tablepress-id-p-mars')\n"
      ],
      "metadata": {
        "id": "nOmKv8lqvOVA"
      },
      "execution_count": null,
      "outputs": []
    },
    {
      "cell_type": "code",
      "source": [
        "mars_data = {}\n",
        "for row in table.find_all('tr'):\n",
        "    columns = row.find_all('td')\n",
        "    if len(columns) == 2:\n",
        "        key = columns[0].text.strip()\n",
        "        value = columns[1].text.strip()\n",
        "        mars_data[key] = value\n"
      ],
      "metadata": {
        "id": "s43CA7rPv36P"
      },
      "execution_count": 15,
      "outputs": []
    },
    {
      "cell_type": "code",
      "source": [
        "df = pd.DataFrame(list(mars_data.items()), columns=['Attribute', 'Value'])\n"
      ],
      "metadata": {
        "id": "ZLV0LoGuv6wv"
      },
      "execution_count": 19,
      "outputs": []
    },
    {
      "cell_type": "code",
      "source": [
        "excel_filename = 'mars_profile_data.xlsx'\n",
        "with pd.ExcelWriter(excel_filename, engine='xlsxwriter') as writer:\n",
        "    df.to_excel(writer, index=False, sheet_name='Mars Profile Data')\n",
        "\n",
        "print(\"Data has been successfully written to 'mars_profile_data.xlsx' file.\")"
      ],
      "metadata": {
        "id": "8h-HW8x4wF6y"
      },
      "execution_count": null,
      "outputs": []
    }
  ]
}